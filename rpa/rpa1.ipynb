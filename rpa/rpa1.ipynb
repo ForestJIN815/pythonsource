{
 "cells": [
  {
   "cell_type": "markdown",
   "metadata": {},
   "source": [
    "# RPA(Robotic Process Automation) : 자동화 프로그램\n",
    "- ex) 엑셀자동화 프로그램\n",
    "- 엑셀 pip install openpyxl\n",
    "- 이미지 pip install pillow\n"
   ]
  },
  {
   "cell_type": "code",
   "execution_count": 12,
   "metadata": {},
   "outputs": [],
   "source": [
    "# 엑셀 파일 생성\n",
    "from openpyxl import Workbook\n",
    "\n",
    "# 객체 생성\n",
    "wb = Workbook()\n",
    "# 현재 활성화된 시트 가져오기\n",
    "ws = wb.active\n",
    "ws.title = \"Sheet1\"\n",
    "\n",
    "wb.save(\"./sample.xlsx\")\n",
    "wb.close()"
   ]
  },
  {
   "cell_type": "code",
   "execution_count": 13,
   "metadata": {},
   "outputs": [],
   "source": [
    "# 객체 생성\n",
    "wb = Workbook()\n",
    "# 현재 활성화된 시트 가져오기\n",
    "ws = wb.active\n",
    "ws.title = \"Sheet1\"\n",
    "\n",
    "# 새로운 시트 생성\n",
    "ws1 = wb.create_sheet(title=\"MySheet\")\n",
    "ws1[\"A1\"] = \"Test\"\n",
    "ws2 = wb.create_sheet(title=\"급여명세\",index=2)\n",
    "\n",
    "ws3 = wb.copy_worksheet(ws1)\n",
    "ws3.title = \"Copied Sheet\"\n",
    "\n",
    "\n",
    "wb.save(\"./sample.xlsx\")\n",
    "wb.close()"
   ]
  },
  {
   "cell_type": "code",
   "execution_count": 15,
   "metadata": {},
   "outputs": [
    {
     "name": "stdout",
     "output_type": "stream",
     "text": [
      "<Cell 'Sheet'.A3>\n",
      "3\n",
      "1\n",
      "4\n"
     ]
    }
   ],
   "source": [
    "# 객체 생성\n",
    "wb = Workbook()\n",
    "# 현재 활성화된 시트 가져오기\n",
    "ws = wb.active\n",
    "\n",
    "# 셀에 데이터 입력\n",
    "# A1=1, A2=2, A3=3, B1=4, B2=5, B3=6\n",
    "ws[\"A1\"] = 1\n",
    "ws[\"A2\"] = 2\n",
    "ws[\"A3\"] = 3\n",
    "ws[\"B1\"] = 4\n",
    "ws[\"B2\"] = 5\n",
    "ws[\"B3\"] = 6\n",
    "ws.cell(1,3,10) # ws[\"C1\"] = 10\n",
    "\n",
    "# 셀 정보 출력\n",
    "print(ws[\"A3\"])\n",
    "# 셀 내용 출력\n",
    "print(ws[\"A3\"].value)\n",
    "print(ws.cell(1,1).value) # ws[\"A1\"]\n",
    "print(ws.cell(1,2).value) # ws[\"B1\"]\n",
    "\n",
    "\n",
    "wb.save(\"./sample1.xlsx\")\n",
    "wb.close()"
   ]
  },
  {
   "cell_type": "code",
   "execution_count": 25,
   "metadata": {},
   "outputs": [],
   "source": [
    "import random\n",
    "\n",
    "# 객체 생성\n",
    "wb = Workbook()\n",
    "# 현재 활성화된 시트 가져오기\n",
    "ws = wb.active\n",
    "\n",
    "for x in range(1, 11):\n",
    "    for y in range(1, 11):\n",
    "        ws.cell(x,y,random.randint(0,100))\n",
    "\n",
    "wb.save(\"./sample2.xlsx\")\n",
    "wb.close()"
   ]
  },
  {
   "cell_type": "code",
   "execution_count": 17,
   "metadata": {},
   "outputs": [
    {
     "name": "stdout",
     "output_type": "stream",
     "text": [
      "39 26 91 7 12 27 73 30 49 25 \n",
      "86 31 74 6 30 93 67 51 38 99 \n",
      "19 11 26 14 30 99 41 80 34 25 \n",
      "51 0 16 12 51 39 39 75 69 46 \n",
      "78 78 14 62 47 93 94 0 13 10 \n",
      "91 55 32 51 49 16 79 94 13 95 \n",
      "81 16 66 43 69 74 62 33 14 50 \n",
      "79 18 95 26 60 80 57 7 11 45 \n",
      "23 27 54 90 16 52 22 79 46 99 \n",
      "30 67 18 72 73 69 73 47 75 44 \n"
     ]
    }
   ],
   "source": [
    "from openpyxl import load_workbook\n",
    "\n",
    "wb = load_workbook(\"./sample2.xlsx\")\n",
    "ws = wb.active\n",
    "\n",
    "# 셀 내용 가져오기\n",
    "for x in range(1, 11):\n",
    "    for y in range(1, 11):\n",
    "        print(ws.cell(x,y).value, end=\" \")\n",
    "    print()\n",
    "\n",
    "wb.close()"
   ]
  },
  {
   "cell_type": "code",
   "execution_count": 18,
   "metadata": {},
   "outputs": [],
   "source": [
    "from openpyxl import load_workbook, Workbook\n",
    "import random\n",
    "\n",
    "wb = Workbook()\n",
    "ws = wb.active\n",
    "\n",
    "# 셀 내용 삽입(행 단위로)\n",
    "ws.append([\"번호\",\"영어\",\"수학\"])\n",
    "for x in range(1, 11):\n",
    "    ws.append([x, random.randint(1,100), random.randint(1,100)])\n",
    "\n",
    "# 영어 칼럼 조회\n",
    "# print(ws[\"B\"])\n",
    "# for cell in ws[\"B\"]:\n",
    "#     print(cell.value)\n",
    "\n",
    "\n",
    "wb.save(\"./range.xlsx\")\n",
    "wb.close()"
   ]
  },
  {
   "cell_type": "code",
   "execution_count": 19,
   "metadata": {},
   "outputs": [
    {
     "name": "stdout",
     "output_type": "stream",
     "text": [
      "91 번 학생 영어점수 : 91\n"
     ]
    }
   ],
   "source": [
    "wb = load_workbook(\"./range.xlsx\")\n",
    "ws = wb.active\n",
    "\n",
    "# 영어 칼럼 조회\n",
    "# print(ws[\"B\"])\n",
    "# for cell in ws[\"B\"]:\n",
    "#     print(cell.value)\n",
    "\n",
    "# 영어, 수학 칼럼 조회\n",
    "# cols = ws[\"B:C\"]\n",
    "# for col in cols:\n",
    "#     for cell in col:\n",
    "#         print(cell.value, end=\" \")\n",
    "#     print()\n",
    "\n",
    "# 1행 조회\n",
    "# rows = ws[1]\n",
    "# for cell in rows:\n",
    "#     print(cell.value)\n",
    "\n",
    "# 2~6행 조회\n",
    "# rows = ws[2:6]\n",
    "# for row in rows:\n",
    "#     for cell in row:\n",
    "#         print(cell.value, end=\" \")\n",
    "#     print()\n",
    "\n",
    "\n",
    "# max_row : 마지막 행\n",
    "# max_column : 마지막 열\n",
    "# rows = ws[2:ws.max_row]\n",
    "# for row in rows:\n",
    "#     for cell in row:\n",
    "#         print(cell.value, end=\" \")\n",
    "#     print()\n",
    "\n",
    "# 전체 rows 가져오기\n",
    "# for row in ws.iter_rows():\n",
    "#     print(row[2].value)\n",
    "\n",
    "# for col in ws.iter_cols():\n",
    "#     print(col[2].value)\n",
    "\n",
    "for row in ws.iter_rows(min_row=2):\n",
    "    if int(row[1].value) > 80:\n",
    "        print(f\"{row[2].value} 번 학생 영어점수 : {row[1].value}\")\n",
    "\n",
    "\n",
    "wb.close() ## 체크 -> 답 3개 나와야 함"
   ]
  },
  {
   "cell_type": "code",
   "execution_count": 20,
   "metadata": {},
   "outputs": [],
   "source": [
    "wb = load_workbook(\"./range.xlsx\")\n",
    "ws = wb.active\n",
    "\n",
    "# 행, 열 삽입\n",
    "ws.insert_rows(8,5)\n",
    "ws.insert_cols(2,3)\n",
    "\n",
    "wb.save(\"./range_insert.xlsx\")\n",
    "wb.close()"
   ]
  },
  {
   "cell_type": "code",
   "execution_count": 21,
   "metadata": {},
   "outputs": [],
   "source": [
    "wb = load_workbook(\"./range.xlsx\")\n",
    "ws = wb.active\n",
    "\n",
    "# 행, 열 삭제\n",
    "ws.delete_rows(8)\n",
    "ws.delete_cols(1,2)\n",
    "\n",
    "\n",
    "wb.save(\"./range_insert.xlsx\")\n",
    "wb.close()"
   ]
  },
  {
   "cell_type": "code",
   "execution_count": 22,
   "metadata": {},
   "outputs": [],
   "source": [
    "wb = load_workbook(\"./range.xlsx\")\n",
    "ws = wb.active\n",
    "\n",
    "# 셀 이동\n",
    "ws.move_range(\"B1:C11\",rows=0,cols=1)\n",
    "ws.cell(row=1,column=2).value=\"국어\"\n",
    "\n",
    "wb.save(\"./range_move.xlsx\")\n",
    "wb.close()"
   ]
  },
  {
   "cell_type": "code",
   "execution_count": 23,
   "metadata": {},
   "outputs": [],
   "source": [
    "from openpyxl.chart import BarChart, Reference, LineChart\n",
    "\n",
    "wb = load_workbook(\"./range.xlsx\")\n",
    "ws = wb.active\n",
    "\n",
    "# bar_chart = BarChart()\n",
    "# bar_value = Reference(ws, min_row=2, max_row=11, min_col=2, max_col=3)\n",
    "# bar_chart.add_data(bar_value)\n",
    "# ws.add_chart(bar_chart, \"E1\")\n",
    "\n",
    "line_chart = LineChart()\n",
    "line_value = Reference(ws, min_row=2, max_row=11, min_col=2, max_col=3)\n",
    "line_chart.add_data(line_value)\n",
    "# 차트 상세 설정\n",
    "line_chart.title = \"성적표\"\n",
    "line_chart.style = 20\n",
    "line_chart.y_axis.title = \"점수\"\n",
    "line_chart.x_axis.title = \"번호\"\n",
    "ws.add_chart(line_chart, \"E1\")\n",
    "\n",
    "\n",
    "wb.save(\"./range_chart.xlsx\")\n",
    "wb.close()"
   ]
  }
 ],
 "metadata": {
  "kernelspec": {
   "display_name": "venv",
   "language": "python",
   "name": "python3"
  },
  "language_info": {
   "codemirror_mode": {
    "name": "ipython",
    "version": 3
   },
   "file_extension": ".py",
   "mimetype": "text/x-python",
   "name": "python",
   "nbconvert_exporter": "python",
   "pygments_lexer": "ipython3",
   "version": "3.13.1"
  }
 },
 "nbformat": 4,
 "nbformat_minor": 2
}
