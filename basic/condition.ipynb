{
 "cells": [
  {
   "cell_type": "markdown",
   "metadata": {},
   "source": [
    "조건문"
   ]
  },
  {
   "cell_type": "markdown",
   "metadata": {},
   "source": [
    "{} 을 사용하지 않고 tab 처리"
   ]
  },
  {
   "cell_type": "code",
   "execution_count": 1,
   "metadata": {},
   "outputs": [
    {
     "data": {
      "text/plain": [
       "'5'"
      ]
     },
     "execution_count": 1,
     "metadata": {},
     "output_type": "execute_result"
    }
   ],
   "source": [
    "input(\"숫자입력\")"
   ]
  },
  {
   "cell_type": "code",
   "execution_count": 2,
   "metadata": {},
   "outputs": [
    {
     "name": "stdout",
     "output_type": "stream",
     "text": [
      "True\n"
     ]
    }
   ],
   "source": [
    "if True:\n",
    "    print(\"True\")"
   ]
  },
  {
   "cell_type": "code",
   "execution_count": 3,
   "metadata": {},
   "outputs": [
    {
     "name": "stdout",
     "output_type": "stream",
     "text": [
      "a는 100과 200사이에 있다\n"
     ]
    }
   ],
   "source": [
    "# a = 200\n",
    "# a는 100과 200사이에 있다\n",
    "\n",
    "a = 200\n",
    "if a >=100 and a <=200:\n",
    "    print(\"a는 100과 200사이에 있다\")"
   ]
  },
  {
   "cell_type": "code",
   "execution_count": 4,
   "metadata": {},
   "outputs": [
    {
     "name": "stdout",
     "output_type": "stream",
     "text": [
      "a는 100과 200사이에 있다\n"
     ]
    }
   ],
   "source": [
    "if 100 <= a <=200:\n",
    "    print(\"a는 100과 200사이에 있다\")"
   ]
  },
  {
   "cell_type": "code",
   "execution_count": 5,
   "metadata": {},
   "outputs": [
    {
     "name": "stdout",
     "output_type": "stream",
     "text": [
      "18\n"
     ]
    }
   ],
   "source": [
    "# 세 개의 숫자 중 가장 큰 수를 출력\n",
    "a, b, c = 12, 6, 18\n",
    "\n",
    "max = a\n",
    "if max < b:\n",
    "\tmax = b\n",
    "if max < c:\n",
    "\tmax = c\n",
    "\n",
    "print(max)"
   ]
  },
  {
   "cell_type": "code",
   "execution_count": 6,
   "metadata": {},
   "outputs": [
    {
     "name": "stdout",
     "output_type": "stream",
     "text": [
      "a는 100보다 작다\n"
     ]
    }
   ],
   "source": [
    "a = 55\n",
    "if a < 100:\n",
    "    print(\"a는 100보다 작다\")\n",
    "else:\n",
    "\tprint(\"a는 100보다 크다\")"
   ]
  },
  {
   "cell_type": "code",
   "execution_count": 7,
   "metadata": {},
   "outputs": [
    {
     "name": "stdout",
     "output_type": "stream",
     "text": [
      "홀수\n"
     ]
    }
   ],
   "source": [
    "# 숫자 입력 받은 후 짝수, 홀수인지 출력하기\n",
    "num = int(input(\"숫자 입력 \"))\n",
    "if num % 2 == 0:\n",
    "\tprint(\"짝수\")\n",
    "else:\n",
    "\tprint(\"홀수\")"
   ]
  },
  {
   "cell_type": "code",
   "execution_count": 9,
   "metadata": {},
   "outputs": [
    {
     "name": "stdout",
     "output_type": "stream",
     "text": [
      "2024-12-21 21:36:21.757928\n",
      "2024년 12월 21일 21시 36분 21초\n",
      "오후\n"
     ]
    }
   ],
   "source": [
    "# 지금 현재 시간이 오전, 오후 출력\n",
    "\n",
    "import datetime\n",
    "\n",
    "now = datetime.datetime.now()\n",
    "\n",
    "print(now)\n",
    "print(\"{}년 {}월 {}일 {}시 {}분 {}초\".format(now.year, now.month, now.day, now.hour, now.minute, now.second))\n",
    "\n",
    "if now.hour < 12:\n",
    "\tprint(\"오전\")\n",
    "else:\n",
    "    print(\"오후\")"
   ]
  },
  {
   "cell_type": "code",
   "execution_count": 10,
   "metadata": {},
   "outputs": [
    {
     "data": {
      "text/plain": [
       "'오후'"
      ]
     },
     "execution_count": 10,
     "metadata": {},
     "output_type": "execute_result"
    }
   ],
   "source": [
    "# 조건? 참 : 거짓 (삼항연산자 - 자바, 자바스크립트)\n",
    "# 파이썬 : 참 if 조건 else 거짓\n",
    "msg = \"오전\" if now.hour < 12 else \"오후\"\n",
    "msg"
   ]
  },
  {
   "cell_type": "code",
   "execution_count": 11,
   "metadata": {},
   "outputs": [
    {
     "name": "stdout",
     "output_type": "stream",
     "text": [
      "B 등급\n"
     ]
    }
   ],
   "source": [
    "# if ~ else if ~ else (자바, 자바스크립트)\n",
    "# if ~ elif ~ else (파이썬)\n",
    "\n",
    "num  = 85\n",
    "if num >= 90:\n",
    "\tprint(\"A 등급\")\n",
    "elif num >= 80:\n",
    "\tprint(\"B 등급\")\n",
    "elif num >= 70:\n",
    "\tprint(\"C 등급\")\n",
    "elif num >= 60:\n",
    "\tprint(\"D 등급\")\n",
    "else:\n",
    "\tprint(\"F 등급\")"
   ]
  },
  {
   "cell_type": "code",
   "execution_count": 13,
   "metadata": {},
   "outputs": [
    {
     "name": "stdout",
     "output_type": "stream",
     "text": [
      "C 등급\n"
     ]
    }
   ],
   "source": [
    "# 점수 입력 받은 후 점수에 맞는 등급 출력\n",
    "\n",
    "num  = int(input(\"점수 입력\"))\n",
    "if num >= 90:\n",
    "\tprint(\"A 등급\")\n",
    "elif num >= 80:\n",
    "\tprint(\"B 등급\")\n",
    "elif num >= 70:\n",
    "\tprint(\"C 등급\")\n",
    "elif num >= 60:\n",
    "\tprint(\"D 등급\")\n",
    "else:\n",
    "\tprint(\"F 등급\")\n"
   ]
  },
  {
   "cell_type": "code",
   "execution_count": 23,
   "metadata": {},
   "outputs": [
    {
     "name": "stdout",
     "output_type": "stream",
     "text": [
      "25 // 4 = 6\n"
     ]
    }
   ],
   "source": [
    "# 숫자 2개 입력 받고, 연산자(+, -, *, /, //, **) 입력받기\n",
    "\n",
    "num1 = int(input(\"첫번째 수 : \"))\n",
    "num2 = int(input(\"두번째 수 : \"))\n",
    "op = input(\"연산자(+, -, *, /, //, **) 입력 : \")\n",
    "\n",
    "if op == \"+\":\n",
    "    result = num1 + num2\n",
    "elif op == \"-\":\n",
    "\t result = num1 - num2\n",
    "elif op == \"*\":\n",
    "\t result = num1 * num2\n",
    "elif op == \"/\":\n",
    "\t result = num1 / num2\n",
    "elif op == \"//\":\n",
    "\t result = num1 // num2\n",
    "else:\n",
    "\t result = num1 ** num2\t \n",
    "\n",
    "print (\"{} {} {} = {}\".format(num1, op, num2, result))"
   ]
  }
 ],
 "metadata": {
  "kernelspec": {
   "display_name": "Python 3",
   "language": "python",
   "name": "python3"
  },
  "language_info": {
   "codemirror_mode": {
    "name": "ipython",
    "version": 3
   },
   "file_extension": ".py",
   "mimetype": "text/x-python",
   "name": "python",
   "nbconvert_exporter": "python",
   "pygments_lexer": "ipython3",
   "version": "3.13.1"
  }
 },
 "nbformat": 4,
 "nbformat_minor": 2
}
