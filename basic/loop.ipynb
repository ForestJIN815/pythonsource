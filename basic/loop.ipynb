{
 "cells": [
  {
   "cell_type": "markdown",
   "metadata": {},
   "source": [
    "### 반복문\n",
    "\n",
    "* while\n",
    "* for"
   ]
  },
  {
   "cell_type": "code",
   "execution_count": 3,
   "metadata": {},
   "outputs": [
    {
     "name": "stdout",
     "output_type": "stream",
     "text": [
      "1 2 3 4 5 6 7 8 9 10 "
     ]
    }
   ],
   "source": [
    "i = 1\n",
    "while i < 11:\n",
    "    print(i, end=\" \")\n",
    "    i = i + 1"
   ]
  },
  {
   "cell_type": "code",
   "execution_count": 9,
   "metadata": {},
   "outputs": [
    {
     "name": "stdout",
     "output_type": "stream",
     "text": [
      "2 4 6 8 10 12 14 16 18 20 22 24 26 28 30 32 34 36 38 40 42 44 46 48 50 52 54 56 58 60 62 64 66 68 70 72 74 76 78 80 82 84 86 88 90 92 94 96 98 100 "
     ]
    }
   ],
   "source": [
    "# 1~100 짝수 출력\n",
    "\n",
    "i = 1\n",
    "while i < 101:\n",
    "    if i % 2 == 0:\n",
    "        print(i, end=\" \")\n",
    "    i = i + 1"
   ]
  },
  {
   "cell_type": "code",
   "execution_count": 10,
   "metadata": {},
   "outputs": [
    {
     "name": "stdout",
     "output_type": "stream",
     "text": [
      "1~100 합 : 5050\n"
     ]
    }
   ],
   "source": [
    "# 1 ~ 100 합계 구하기\n",
    "\n",
    "i = 1\n",
    "hap = 0\n",
    "\n",
    "while i < 101:\n",
    "    hap += i\n",
    "    i = i + 1\n",
    "\n",
    "print(f\"1~100 합 : {hap}\")"
   ]
  },
  {
   "cell_type": "code",
   "execution_count": 11,
   "metadata": {},
   "outputs": [
    {
     "name": "stdout",
     "output_type": "stream",
     "text": [
      "커피 출력\n",
      "남은 커피의 양 99\n",
      "커피 출력\n",
      "남은 커피의 양 98\n",
      "커피 출력\n",
      "남은 커피의 양 97\n",
      "커피 출력\n",
      "남은 커피의 양 96\n",
      "커피 출력\n",
      "남은 커피의 양 95\n",
      "커피 출력\n",
      "남은 커피의 양 94\n",
      "커피 출력\n",
      "남은 커피의 양 93\n",
      "커피 출력\n",
      "남은 커피의 양 92\n",
      "커피 출력\n",
      "남은 커피의 양 91\n",
      "커피 출력\n",
      "남은 커피의 양 90\n",
      "커피 출력\n",
      "남은 커피의 양 89\n",
      "커피 출력\n",
      "남은 커피의 양 88\n",
      "커피 출력\n",
      "남은 커피의 양 87\n",
      "커피 출력\n",
      "남은 커피의 양 86\n",
      "커피 출력\n",
      "남은 커피의 양 85\n",
      "커피 출력\n",
      "남은 커피의 양 84\n",
      "커피 출력\n",
      "남은 커피의 양 83\n",
      "커피 출력\n",
      "남은 커피의 양 82\n",
      "커피 출력\n",
      "남은 커피의 양 81\n",
      "커피 출력\n",
      "남은 커피의 양 80\n",
      "커피 출력\n",
      "남은 커피의 양 79\n",
      "커피 출력\n",
      "남은 커피의 양 78\n",
      "커피 출력\n",
      "남은 커피의 양 77\n",
      "커피 출력\n",
      "남은 커피의 양 76\n",
      "커피 출력\n",
      "남은 커피의 양 75\n",
      "커피 출력\n",
      "남은 커피의 양 74\n",
      "커피 출력\n",
      "남은 커피의 양 73\n",
      "커피 출력\n",
      "남은 커피의 양 72\n",
      "커피 출력\n",
      "남은 커피의 양 71\n",
      "커피 출력\n",
      "남은 커피의 양 70\n",
      "커피 출력\n",
      "남은 커피의 양 69\n",
      "커피 출력\n",
      "남은 커피의 양 68\n",
      "커피 출력\n",
      "남은 커피의 양 67\n",
      "커피 출력\n",
      "남은 커피의 양 66\n",
      "커피 출력\n",
      "남은 커피의 양 65\n",
      "커피 출력\n",
      "남은 커피의 양 64\n",
      "커피 출력\n",
      "남은 커피의 양 63\n",
      "커피 출력\n",
      "남은 커피의 양 62\n",
      "커피 출력\n",
      "남은 커피의 양 61\n",
      "커피 출력\n",
      "남은 커피의 양 60\n",
      "커피 출력\n",
      "남은 커피의 양 59\n",
      "커피 출력\n",
      "남은 커피의 양 58\n",
      "커피 출력\n",
      "남은 커피의 양 57\n",
      "커피 출력\n",
      "남은 커피의 양 56\n",
      "커피 출력\n",
      "남은 커피의 양 55\n",
      "커피 출력\n",
      "남은 커피의 양 54\n",
      "커피 출력\n",
      "남은 커피의 양 53\n",
      "커피 출력\n",
      "남은 커피의 양 52\n",
      "커피 출력\n",
      "남은 커피의 양 51\n",
      "커피 출력\n",
      "남은 커피의 양 50\n",
      "커피 출력\n",
      "남은 커피의 양 49\n",
      "커피 출력\n",
      "남은 커피의 양 48\n",
      "커피 출력\n",
      "남은 커피의 양 47\n",
      "커피 출력\n",
      "남은 커피의 양 46\n",
      "커피 출력\n",
      "남은 커피의 양 45\n",
      "커피 출력\n",
      "남은 커피의 양 44\n",
      "커피 출력\n",
      "남은 커피의 양 43\n",
      "커피 출력\n",
      "남은 커피의 양 42\n",
      "커피 출력\n",
      "남은 커피의 양 41\n",
      "커피 출력\n",
      "남은 커피의 양 40\n",
      "커피 출력\n",
      "남은 커피의 양 39\n",
      "커피 출력\n",
      "남은 커피의 양 38\n",
      "커피 출력\n",
      "남은 커피의 양 37\n",
      "커피 출력\n",
      "남은 커피의 양 36\n",
      "커피 출력\n",
      "남은 커피의 양 35\n",
      "커피 출력\n",
      "남은 커피의 양 34\n",
      "커피 출력\n",
      "남은 커피의 양 33\n",
      "커피 출력\n",
      "남은 커피의 양 32\n",
      "커피 출력\n",
      "남은 커피의 양 31\n",
      "커피 출력\n",
      "남은 커피의 양 30\n",
      "커피 출력\n",
      "남은 커피의 양 29\n",
      "커피 출력\n",
      "남은 커피의 양 28\n",
      "커피 출력\n",
      "남은 커피의 양 27\n",
      "커피 출력\n",
      "남은 커피의 양 26\n",
      "커피 출력\n",
      "남은 커피의 양 25\n",
      "커피 출력\n",
      "남은 커피의 양 24\n",
      "커피 출력\n",
      "남은 커피의 양 23\n",
      "커피 출력\n",
      "남은 커피의 양 22\n",
      "커피 출력\n",
      "남은 커피의 양 21\n",
      "커피 출력\n",
      "남은 커피의 양 20\n",
      "커피 출력\n",
      "남은 커피의 양 19\n",
      "커피 출력\n",
      "남은 커피의 양 18\n",
      "커피 출력\n",
      "남은 커피의 양 17\n",
      "커피 출력\n",
      "남은 커피의 양 16\n",
      "커피 출력\n",
      "남은 커피의 양 15\n",
      "커피 출력\n",
      "남은 커피의 양 14\n",
      "커피 출력\n",
      "남은 커피의 양 13\n",
      "커피 출력\n",
      "남은 커피의 양 12\n",
      "커피 출력\n",
      "남은 커피의 양 11\n",
      "커피 출력\n",
      "남은 커피의 양 10\n",
      "커피 출력\n",
      "남은 커피의 양 9\n",
      "커피 출력\n",
      "남은 커피의 양 8\n",
      "커피 출력\n",
      "남은 커피의 양 7\n",
      "커피 출력\n",
      "남은 커피의 양 6\n",
      "커피 출력\n",
      "남은 커피의 양 5\n",
      "커피 출력\n",
      "남은 커피의 양 4\n",
      "커피 출력\n",
      "남은 커피의 양 3\n",
      "커피 출력\n",
      "남은 커피의 양 2\n",
      "커피 출력\n",
      "남은 커피의 양 1\n",
      "커피 출력\n",
      "남은 커피의 양 0\n",
      "커피가 다 떨어졌습니다. 판매를 중지합니다.\n"
     ]
    }
   ],
   "source": [
    "coffee, money= 100, 300\n",
    "while money:\n",
    "    print(\"커피 출력\")\n",
    "    coffee -= 1\n",
    "    print(f\"남은 커피의 양 {coffee}\")\n",
    "    if coffee == 0:\n",
    "        print(\"커피가 다 떨어졌습니다. 판매를 중지합니다.\")\n",
    "        break"
   ]
  },
  {
   "cell_type": "code",
   "execution_count": 18,
   "metadata": {},
   "outputs": [
    {
     "name": "stdout",
     "output_type": "stream",
     "text": [
      "range(0, 5)\n",
      "[0, 1, 2, 3, 4]\n",
      "[1, 2, 3, 4]\n",
      "[1, 3, 5, 7, 9]\n"
     ]
    }
   ],
   "source": [
    "# range(start, end, step) : end 는 포함하지 않음\n",
    "\n",
    "print(range(5))\n",
    "\n",
    "# list 구조로 특정 범위의 숫자 돌려받기\n",
    "print(list(range(5)))\n",
    "\n",
    "print(list(range(1,5)))\n",
    "\n",
    "print(list(range(1,10,2)))"
   ]
  },
  {
   "cell_type": "code",
   "execution_count": 19,
   "metadata": {},
   "outputs": [
    {
     "name": "stdout",
     "output_type": "stream",
     "text": [
      "1 2 3 4 5 6 7 8 9 10 "
     ]
    }
   ],
   "source": [
    "for i in range(1,11):\n",
    "    print(i, end=\" \")"
   ]
  },
  {
   "cell_type": "code",
   "execution_count": 21,
   "metadata": {},
   "outputs": [
    {
     "name": "stdout",
     "output_type": "stream",
     "text": [
      "2 4 6 8 10 "
     ]
    }
   ],
   "source": [
    "for i in range(2,11,2):\n",
    "    print(i, end=\" \")"
   ]
  },
  {
   "cell_type": "code",
   "execution_count": 22,
   "metadata": {},
   "outputs": [
    {
     "name": "stdout",
     "output_type": "stream",
     "text": [
      "1~100 합 : 5050\n"
     ]
    }
   ],
   "source": [
    "# i ~ 100 합계\n",
    "\n",
    "hap = 0\n",
    "\n",
    "for i in range(1, 101):\n",
    "    hap += i\n",
    "\n",
    "print(f\"1~100 합 : {hap}\")"
   ]
  },
  {
   "cell_type": "code",
   "execution_count": 29,
   "metadata": {},
   "outputs": [
    {
     "name": "stdout",
     "output_type": "stream",
     "text": [
      "1~15 합 : 105\n"
     ]
    }
   ],
   "source": [
    "# 1 ~ 사용자가 입력한 숫자까지 합계\n",
    "\n",
    "num = int(input(\"숫자 입력\"))\n",
    "\n",
    "hap = 0\n",
    "\n",
    "for i in range(1, num):\n",
    "    hap += i\n",
    "\n",
    "print(f\"1~{num} 합 : {hap}\")"
   ]
  },
  {
   "cell_type": "code",
   "execution_count": 37,
   "metadata": {},
   "outputs": [
    {
     "data": {
      "text/plain": [
       "1225"
      ]
     },
     "execution_count": 37,
     "metadata": {},
     "output_type": "execute_result"
    }
   ],
   "source": [
    "# sum()\n",
    "sum(list(range(1,50)))\n",
    "\n",
    "# 1~100 까지 합\n",
    "print(sum(range(1,101)))\n",
    "\n",
    "# 1~100 까지 홀수 합\n",
    "print(sum(range(1,101,2)))"
   ]
  },
  {
   "cell_type": "code",
   "execution_count": 39,
   "metadata": {},
   "outputs": [
    {
     "name": "stdout",
     "output_type": "stream",
     "text": [
      "10 9 8 7 6 5 4 3 2 1 "
     ]
    }
   ],
   "source": [
    "for i in range(10,0,-1):\n",
    "    print(i, end=\" \")"
   ]
  },
  {
   "cell_type": "code",
   "execution_count": 41,
   "metadata": {},
   "outputs": [
    {
     "name": "stdout",
     "output_type": "stream",
     "text": [
      "0 1 2 \n",
      "0 1 2 \n",
      "0 1 2 \n"
     ]
    }
   ],
   "source": [
    "for i in range(3):\n",
    "    for j in range(3):\n",
    "        print(j, end=\" \")\n",
    "    print()"
   ]
  },
  {
   "cell_type": "code",
   "execution_count": 43,
   "metadata": {},
   "outputs": [
    {
     "name": "stdout",
     "output_type": "stream",
     "text": [
      "2 * 1 = 2\t2 * 2 = 4\t2 * 3 = 6\t2 * 4 = 8\t2 * 5 = 10\t2 * 6 = 12\t2 * 7 = 14\t2 * 8 = 16\t2 * 9 = 18\t\n",
      "3 * 1 = 3\t3 * 2 = 6\t3 * 3 = 9\t3 * 4 = 12\t3 * 5 = 15\t3 * 6 = 18\t3 * 7 = 21\t3 * 8 = 24\t3 * 9 = 27\t\n",
      "4 * 1 = 4\t4 * 2 = 8\t4 * 3 = 12\t4 * 4 = 16\t4 * 5 = 20\t4 * 6 = 24\t4 * 7 = 28\t4 * 8 = 32\t4 * 9 = 36\t\n",
      "5 * 1 = 5\t5 * 2 = 10\t5 * 3 = 15\t5 * 4 = 20\t5 * 5 = 25\t5 * 6 = 30\t5 * 7 = 35\t5 * 8 = 40\t5 * 9 = 45\t\n",
      "6 * 1 = 6\t6 * 2 = 12\t6 * 3 = 18\t6 * 4 = 24\t6 * 5 = 30\t6 * 6 = 36\t6 * 7 = 42\t6 * 8 = 48\t6 * 9 = 54\t\n",
      "7 * 1 = 7\t7 * 2 = 14\t7 * 3 = 21\t7 * 4 = 28\t7 * 5 = 35\t7 * 6 = 42\t7 * 7 = 49\t7 * 8 = 56\t7 * 9 = 63\t\n",
      "8 * 1 = 8\t8 * 2 = 16\t8 * 3 = 24\t8 * 4 = 32\t8 * 5 = 40\t8 * 6 = 48\t8 * 7 = 56\t8 * 8 = 64\t8 * 9 = 72\t\n",
      "9 * 1 = 9\t9 * 2 = 18\t9 * 3 = 27\t9 * 4 = 36\t9 * 5 = 45\t9 * 6 = 54\t9 * 7 = 63\t9 * 8 = 72\t9 * 9 = 81\t\n"
     ]
    }
   ],
   "source": [
    "# 구구단 2~9단 출력\n",
    "\n",
    "for i in range(2,10):\n",
    "    for j in range(1,10):\n",
    "        print(f\"{i} * {j} = {i*j}\", end=\"\\t\")\n",
    "    print()"
   ]
  },
  {
   "cell_type": "code",
   "execution_count": 44,
   "metadata": {},
   "outputs": [
    {
     "name": "stdout",
     "output_type": "stream",
     "text": [
      "1 2 3 4 6 7 8 9 10 "
     ]
    }
   ],
   "source": [
    "# break, continue\n",
    "\n",
    "for i in range(1, 11):\n",
    "    if i == 5:\n",
    "        continue\n",
    "    print(i, end=\" \")"
   ]
  }
 ],
 "metadata": {
  "kernelspec": {
   "display_name": "Python 3",
   "language": "python",
   "name": "python3"
  },
  "language_info": {
   "codemirror_mode": {
    "name": "ipython",
    "version": 3
   },
   "file_extension": ".py",
   "mimetype": "text/x-python",
   "name": "python",
   "nbconvert_exporter": "python",
   "pygments_lexer": "ipython3",
   "version": "3.13.1"
  }
 },
 "nbformat": 4,
 "nbformat_minor": 2
}
